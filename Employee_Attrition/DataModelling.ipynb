{
 "cells": [
  {
   "cell_type": "markdown",
   "metadata": {
    "slideshow": {
     "slide_type": "slide"
    }
   },
   "source": [
    "<img src=\"https://s3.amazonaws.com/edu-static.mongodb.com/lessons/M220/notebook_assets/screen_align.png\" style=\"margin: 0 auto;\">\n"
   ]
  },
  {
   "cell_type": "markdown",
   "metadata": {
    "slideshow": {
     "slide_type": "slide"
    }
   },
   "source": [
    "# Problem Statment\n",
    "\n",
    "Employees are the most important part of an organization.Successful employees meet deadlines, make sales\n",
    "and build the brand through positive customer interaction\n",
    "\n",
    "Employee attrition is a major cost to an organization and predicting such attrition is the important\n",
    "requirment of the Human Resources department in many organizations. In this problem main task is to predict the\n",
    "attrition rate of employees of an  Organization"
   ]
  },
  {
   "cell_type": "markdown",
   "metadata": {
    "slideshow": {
     "slide_type": "subslide"
    }
   },
   "source": [
    "# Objectives\n",
    "\n",
    "* This project aims at finding the attributes responsible for employee attition with the data mining technique. \n",
    "* Study factors responsible for deciding the valuable employees\n"
   ]
  },
  {
   "cell_type": "markdown",
   "metadata": {
    "slideshow": {
     "slide_type": "subslide"
    }
   },
   "source": [
    "# Workaround\n",
    "\n",
    "**IBM HR Analytics: (IBM Inc., 2017).**\n",
    "\n",
    "\n",
    "IBM Software has one of its products in Talent Management software category called IBM Kenexa HR analytics, powered by IBM Watson Analytics. One of the solutions provided by IBM workforce analytics is `Prediction of employee attrition rate`. It analyses the key drivers for attrition and then the employee attrition is predicted\n",
    "\n",
    "**SAP Workforce analytics: (SAP Inc., 2017)**\n",
    "\n",
    "SAP SuccessFactors is using predictive analytics to help answer questions related to understanding turnover and identifying and managing flight risk.\n",
    "\n",
    "Thus, IBM and SAP have found a solution and developed their own application to predict the employee attrition rate, so that company can found a replacement of an employee beforehand."
   ]
  },
  {
   "cell_type": "markdown",
   "metadata": {
    "slideshow": {
     "slide_type": "subslide"
    }
   },
   "source": [
    "# Assumptions\n",
    "\n",
    "1. The first assumption was theoretical and made while choosing the attributes for deciding on the valuable employee. The assumption was made based on the study about past researches and case studies mentioned in Literature So I had choose following attributes *Employee Performance, Peer-Manager Relationship, Number of years at current company, Education level, Job Level, Job Involvement, Job Title, Job Satisfaction*\n",
    "\n",
    "2. Similarly based on past research and case studies, I had considered following attributes as effective retention factors  *Promotion, Percent Salary Hike, Work Life balance, Work environment, Job satisfaction, Job involvement, Peer relationship*\n",
    "\n"
   ]
  },
  {
   "cell_type": "code",
   "execution_count": 2,
   "metadata": {
    "slideshow": {
     "slide_type": "slide"
    }
   },
   "outputs": [],
   "source": [
    "import numpy as np\n",
    "import pandas as pd\n",
    "import matplotlib as mpl \n",
    "from matplotlib import pyplot as plt\n",
    "from sklearn.preprocessing import LabelEncoder\n",
    "from sklearn.ensemble import RandomForestClassifier\n",
    "from sklearn.ensemble import VotingClassifier\n",
    "from sklearn.linear_model import LogisticRegression\n",
    "from sklearn.svm import SVC\n",
    "from sklearn.model_selection import train_test_split\n",
    "from sklearn.metrics import accuracy_score,confusion_matrix,classification_report\n",
    "from sklearn.metrics import roc_curve\n",
    "from sklearn.metrics import roc_auc_score\n",
    "from sklearn.metrics import average_precision_score\n",
    "from sklearn.metrics import precision_recall_curve\n",
    "from sklearn.metrics import f1_score\n",
    "from sklearn.model_selection import GridSearchCV\n",
    "from sklearn.neighbors import KNeighborsClassifier\n",
    "from sklearn.feature_selection import SelectKBest\n",
    "from sklearn.feature_selection import chi2\n",
    "from sklearn.pipeline import Pipeline\n",
    "from sklearn.preprocessing import StandardScaler\n",
    "from sklearn.pipeline import FeatureUnion\n",
    "import seaborn as sns\n",
    "import os\n",
    "import joblib\n",
    "mpl.rc('axes', labelsize=14)\n",
    "mpl.rc('xtick', labelsize=12)\n",
    "mpl.rc('ytick', labelsize=12)\n",
    "\n",
    "PROJECT_ROOT_DIR = \".\"\n",
    "CHAPTER_ID = \"employee analysis\"\n",
    "IMAGES_PATH = os.path.join(PROJECT_ROOT_DIR, \"images\", CHAPTER_ID)\n",
    "\n",
    "def save_fig(fig_id, tight_layout=True, fig_extension=\"png\", resolution=300):\n",
    "    path = os.path.join(IMAGES_PATH, fig_id + \".\" + fig_extension)\n",
    "    print(\"Saving figure\", fig_id)\n",
    "    if tight_layout:\n",
    "        plt.tight_layout()\n",
    "    plt.savefig(path, format=fig_extension, dpi=resolution)\n",
    "    \n",
    "def load_data(filename,PROJECT_ROOT_DIR=PROJECT_ROOT_DIR):\n",
    "    path=os.path.join(PROJECT_ROOT_DIR,filename)\n",
    "    return pd.read_csv(filename)"
   ]
  },
  {
   "cell_type": "markdown",
   "metadata": {
    "slideshow": {
     "slide_type": "slide"
    }
   },
   "source": [
    "# Data Preperation"
   ]
  },
  {
   "cell_type": "code",
   "execution_count": 3,
   "metadata": {
    "slideshow": {
     "slide_type": "subslide"
    }
   },
   "outputs": [
    {
     "data": {
      "text/html": [
       "<div>\n",
       "<style scoped>\n",
       "    .dataframe tbody tr th:only-of-type {\n",
       "        vertical-align: middle;\n",
       "    }\n",
       "\n",
       "    .dataframe tbody tr th {\n",
       "        vertical-align: top;\n",
       "    }\n",
       "\n",
       "    .dataframe thead th {\n",
       "        text-align: right;\n",
       "    }\n",
       "</style>\n",
       "<table border=\"1\" class=\"dataframe\">\n",
       "  <thead>\n",
       "    <tr style=\"text-align: right;\">\n",
       "      <th></th>\n",
       "      <th>Age</th>\n",
       "      <th>Attrition</th>\n",
       "      <th>BusinessTravel</th>\n",
       "      <th>DailyRate</th>\n",
       "      <th>Department</th>\n",
       "      <th>DistanceFromHome</th>\n",
       "      <th>Education</th>\n",
       "      <th>EducationField</th>\n",
       "      <th>EmployeeCount</th>\n",
       "      <th>EmployeeNumber</th>\n",
       "      <th>...</th>\n",
       "      <th>RelationshipSatisfaction</th>\n",
       "      <th>StandardHours</th>\n",
       "      <th>StockOptionLevel</th>\n",
       "      <th>TotalWorkingYears</th>\n",
       "      <th>TrainingTimesLastYear</th>\n",
       "      <th>WorkLifeBalance</th>\n",
       "      <th>YearsAtCompany</th>\n",
       "      <th>YearsInCurrentRole</th>\n",
       "      <th>YearsSinceLastPromotion</th>\n",
       "      <th>YearsWithCurrManager</th>\n",
       "    </tr>\n",
       "  </thead>\n",
       "  <tbody>\n",
       "    <tr>\n",
       "      <th>0</th>\n",
       "      <td>41</td>\n",
       "      <td>Yes</td>\n",
       "      <td>Travel_Rarely</td>\n",
       "      <td>1102</td>\n",
       "      <td>Sales</td>\n",
       "      <td>1</td>\n",
       "      <td>2</td>\n",
       "      <td>Life Sciences</td>\n",
       "      <td>1</td>\n",
       "      <td>1</td>\n",
       "      <td>...</td>\n",
       "      <td>1</td>\n",
       "      <td>80</td>\n",
       "      <td>0</td>\n",
       "      <td>8</td>\n",
       "      <td>0</td>\n",
       "      <td>1</td>\n",
       "      <td>6</td>\n",
       "      <td>4</td>\n",
       "      <td>0</td>\n",
       "      <td>5</td>\n",
       "    </tr>\n",
       "    <tr>\n",
       "      <th>1</th>\n",
       "      <td>49</td>\n",
       "      <td>No</td>\n",
       "      <td>Travel_Frequently</td>\n",
       "      <td>279</td>\n",
       "      <td>Research &amp; Development</td>\n",
       "      <td>8</td>\n",
       "      <td>1</td>\n",
       "      <td>Life Sciences</td>\n",
       "      <td>1</td>\n",
       "      <td>2</td>\n",
       "      <td>...</td>\n",
       "      <td>4</td>\n",
       "      <td>80</td>\n",
       "      <td>1</td>\n",
       "      <td>10</td>\n",
       "      <td>3</td>\n",
       "      <td>3</td>\n",
       "      <td>10</td>\n",
       "      <td>7</td>\n",
       "      <td>1</td>\n",
       "      <td>7</td>\n",
       "    </tr>\n",
       "    <tr>\n",
       "      <th>2</th>\n",
       "      <td>37</td>\n",
       "      <td>Yes</td>\n",
       "      <td>Travel_Rarely</td>\n",
       "      <td>1373</td>\n",
       "      <td>Research &amp; Development</td>\n",
       "      <td>2</td>\n",
       "      <td>2</td>\n",
       "      <td>Other</td>\n",
       "      <td>1</td>\n",
       "      <td>4</td>\n",
       "      <td>...</td>\n",
       "      <td>2</td>\n",
       "      <td>80</td>\n",
       "      <td>0</td>\n",
       "      <td>7</td>\n",
       "      <td>3</td>\n",
       "      <td>3</td>\n",
       "      <td>0</td>\n",
       "      <td>0</td>\n",
       "      <td>0</td>\n",
       "      <td>0</td>\n",
       "    </tr>\n",
       "    <tr>\n",
       "      <th>3</th>\n",
       "      <td>33</td>\n",
       "      <td>No</td>\n",
       "      <td>Travel_Frequently</td>\n",
       "      <td>1392</td>\n",
       "      <td>Research &amp; Development</td>\n",
       "      <td>3</td>\n",
       "      <td>4</td>\n",
       "      <td>Life Sciences</td>\n",
       "      <td>1</td>\n",
       "      <td>5</td>\n",
       "      <td>...</td>\n",
       "      <td>3</td>\n",
       "      <td>80</td>\n",
       "      <td>0</td>\n",
       "      <td>8</td>\n",
       "      <td>3</td>\n",
       "      <td>3</td>\n",
       "      <td>8</td>\n",
       "      <td>7</td>\n",
       "      <td>3</td>\n",
       "      <td>0</td>\n",
       "    </tr>\n",
       "    <tr>\n",
       "      <th>4</th>\n",
       "      <td>27</td>\n",
       "      <td>No</td>\n",
       "      <td>Travel_Rarely</td>\n",
       "      <td>591</td>\n",
       "      <td>Research &amp; Development</td>\n",
       "      <td>2</td>\n",
       "      <td>1</td>\n",
       "      <td>Medical</td>\n",
       "      <td>1</td>\n",
       "      <td>7</td>\n",
       "      <td>...</td>\n",
       "      <td>4</td>\n",
       "      <td>80</td>\n",
       "      <td>1</td>\n",
       "      <td>6</td>\n",
       "      <td>3</td>\n",
       "      <td>3</td>\n",
       "      <td>2</td>\n",
       "      <td>2</td>\n",
       "      <td>2</td>\n",
       "      <td>2</td>\n",
       "    </tr>\n",
       "    <tr>\n",
       "      <th>5</th>\n",
       "      <td>32</td>\n",
       "      <td>No</td>\n",
       "      <td>Travel_Frequently</td>\n",
       "      <td>1005</td>\n",
       "      <td>Research &amp; Development</td>\n",
       "      <td>2</td>\n",
       "      <td>2</td>\n",
       "      <td>Life Sciences</td>\n",
       "      <td>1</td>\n",
       "      <td>8</td>\n",
       "      <td>...</td>\n",
       "      <td>3</td>\n",
       "      <td>80</td>\n",
       "      <td>0</td>\n",
       "      <td>8</td>\n",
       "      <td>2</td>\n",
       "      <td>2</td>\n",
       "      <td>7</td>\n",
       "      <td>7</td>\n",
       "      <td>3</td>\n",
       "      <td>6</td>\n",
       "    </tr>\n",
       "    <tr>\n",
       "      <th>6</th>\n",
       "      <td>59</td>\n",
       "      <td>No</td>\n",
       "      <td>Travel_Rarely</td>\n",
       "      <td>1324</td>\n",
       "      <td>Research &amp; Development</td>\n",
       "      <td>3</td>\n",
       "      <td>3</td>\n",
       "      <td>Medical</td>\n",
       "      <td>1</td>\n",
       "      <td>10</td>\n",
       "      <td>...</td>\n",
       "      <td>1</td>\n",
       "      <td>80</td>\n",
       "      <td>3</td>\n",
       "      <td>12</td>\n",
       "      <td>3</td>\n",
       "      <td>2</td>\n",
       "      <td>1</td>\n",
       "      <td>0</td>\n",
       "      <td>0</td>\n",
       "      <td>0</td>\n",
       "    </tr>\n",
       "    <tr>\n",
       "      <th>7</th>\n",
       "      <td>30</td>\n",
       "      <td>No</td>\n",
       "      <td>Travel_Rarely</td>\n",
       "      <td>1358</td>\n",
       "      <td>Research &amp; Development</td>\n",
       "      <td>24</td>\n",
       "      <td>1</td>\n",
       "      <td>Life Sciences</td>\n",
       "      <td>1</td>\n",
       "      <td>11</td>\n",
       "      <td>...</td>\n",
       "      <td>2</td>\n",
       "      <td>80</td>\n",
       "      <td>1</td>\n",
       "      <td>1</td>\n",
       "      <td>2</td>\n",
       "      <td>3</td>\n",
       "      <td>1</td>\n",
       "      <td>0</td>\n",
       "      <td>0</td>\n",
       "      <td>0</td>\n",
       "    </tr>\n",
       "    <tr>\n",
       "      <th>8</th>\n",
       "      <td>38</td>\n",
       "      <td>No</td>\n",
       "      <td>Travel_Frequently</td>\n",
       "      <td>216</td>\n",
       "      <td>Research &amp; Development</td>\n",
       "      <td>23</td>\n",
       "      <td>3</td>\n",
       "      <td>Life Sciences</td>\n",
       "      <td>1</td>\n",
       "      <td>12</td>\n",
       "      <td>...</td>\n",
       "      <td>2</td>\n",
       "      <td>80</td>\n",
       "      <td>0</td>\n",
       "      <td>10</td>\n",
       "      <td>2</td>\n",
       "      <td>3</td>\n",
       "      <td>9</td>\n",
       "      <td>7</td>\n",
       "      <td>1</td>\n",
       "      <td>8</td>\n",
       "    </tr>\n",
       "    <tr>\n",
       "      <th>9</th>\n",
       "      <td>36</td>\n",
       "      <td>No</td>\n",
       "      <td>Travel_Rarely</td>\n",
       "      <td>1299</td>\n",
       "      <td>Research &amp; Development</td>\n",
       "      <td>27</td>\n",
       "      <td>3</td>\n",
       "      <td>Medical</td>\n",
       "      <td>1</td>\n",
       "      <td>13</td>\n",
       "      <td>...</td>\n",
       "      <td>2</td>\n",
       "      <td>80</td>\n",
       "      <td>2</td>\n",
       "      <td>17</td>\n",
       "      <td>3</td>\n",
       "      <td>2</td>\n",
       "      <td>7</td>\n",
       "      <td>7</td>\n",
       "      <td>7</td>\n",
       "      <td>7</td>\n",
       "    </tr>\n",
       "  </tbody>\n",
       "</table>\n",
       "<p>10 rows × 35 columns</p>\n",
       "</div>"
      ],
      "text/plain": [
       "   Age Attrition     BusinessTravel  DailyRate              Department  \\\n",
       "0   41       Yes      Travel_Rarely       1102                   Sales   \n",
       "1   49        No  Travel_Frequently        279  Research & Development   \n",
       "2   37       Yes      Travel_Rarely       1373  Research & Development   \n",
       "3   33        No  Travel_Frequently       1392  Research & Development   \n",
       "4   27        No      Travel_Rarely        591  Research & Development   \n",
       "5   32        No  Travel_Frequently       1005  Research & Development   \n",
       "6   59        No      Travel_Rarely       1324  Research & Development   \n",
       "7   30        No      Travel_Rarely       1358  Research & Development   \n",
       "8   38        No  Travel_Frequently        216  Research & Development   \n",
       "9   36        No      Travel_Rarely       1299  Research & Development   \n",
       "\n",
       "   DistanceFromHome  Education EducationField  EmployeeCount  EmployeeNumber  \\\n",
       "0                 1          2  Life Sciences              1               1   \n",
       "1                 8          1  Life Sciences              1               2   \n",
       "2                 2          2          Other              1               4   \n",
       "3                 3          4  Life Sciences              1               5   \n",
       "4                 2          1        Medical              1               7   \n",
       "5                 2          2  Life Sciences              1               8   \n",
       "6                 3          3        Medical              1              10   \n",
       "7                24          1  Life Sciences              1              11   \n",
       "8                23          3  Life Sciences              1              12   \n",
       "9                27          3        Medical              1              13   \n",
       "\n",
       "   ...  RelationshipSatisfaction StandardHours  StockOptionLevel  \\\n",
       "0  ...                         1            80                 0   \n",
       "1  ...                         4            80                 1   \n",
       "2  ...                         2            80                 0   \n",
       "3  ...                         3            80                 0   \n",
       "4  ...                         4            80                 1   \n",
       "5  ...                         3            80                 0   \n",
       "6  ...                         1            80                 3   \n",
       "7  ...                         2            80                 1   \n",
       "8  ...                         2            80                 0   \n",
       "9  ...                         2            80                 2   \n",
       "\n",
       "   TotalWorkingYears  TrainingTimesLastYear WorkLifeBalance  YearsAtCompany  \\\n",
       "0                  8                      0               1               6   \n",
       "1                 10                      3               3              10   \n",
       "2                  7                      3               3               0   \n",
       "3                  8                      3               3               8   \n",
       "4                  6                      3               3               2   \n",
       "5                  8                      2               2               7   \n",
       "6                 12                      3               2               1   \n",
       "7                  1                      2               3               1   \n",
       "8                 10                      2               3               9   \n",
       "9                 17                      3               2               7   \n",
       "\n",
       "  YearsInCurrentRole  YearsSinceLastPromotion  YearsWithCurrManager  \n",
       "0                  4                        0                     5  \n",
       "1                  7                        1                     7  \n",
       "2                  0                        0                     0  \n",
       "3                  7                        3                     0  \n",
       "4                  2                        2                     2  \n",
       "5                  7                        3                     6  \n",
       "6                  0                        0                     0  \n",
       "7                  0                        0                     0  \n",
       "8                  7                        1                     8  \n",
       "9                  7                        7                     7  \n",
       "\n",
       "[10 rows x 35 columns]"
      ]
     },
     "execution_count": 3,
     "metadata": {},
     "output_type": "execute_result"
    }
   ],
   "source": [
    "data=load_data(\"employee.csv\")\n",
    "df=pd.DataFrame(data)\n",
    "df.head(10)"
   ]
  },
  {
   "cell_type": "code",
   "execution_count": 4,
   "metadata": {
    "slideshow": {
     "slide_type": "subslide"
    }
   },
   "outputs": [
    {
     "data": {
      "text/plain": [
       "Age                          int64\n",
       "Attrition                   object\n",
       "BusinessTravel              object\n",
       "DailyRate                    int64\n",
       "Department                  object\n",
       "DistanceFromHome             int64\n",
       "Education                    int64\n",
       "EducationField              object\n",
       "EmployeeCount                int64\n",
       "EmployeeNumber               int64\n",
       "EnvironmentSatisfaction      int64\n",
       "Gender                      object\n",
       "HourlyRate                   int64\n",
       "JobInvolvement               int64\n",
       "JobLevel                     int64\n",
       "JobRole                     object\n",
       "JobSatisfaction              int64\n",
       "MaritalStatus               object\n",
       "MonthlyIncome                int64\n",
       "MonthlyRate                  int64\n",
       "NumCompaniesWorked           int64\n",
       "Over18                      object\n",
       "OverTime                    object\n",
       "PercentSalaryHike            int64\n",
       "PerformanceRating            int64\n",
       "RelationshipSatisfaction     int64\n",
       "StandardHours                int64\n",
       "StockOptionLevel             int64\n",
       "TotalWorkingYears            int64\n",
       "TrainingTimesLastYear        int64\n",
       "WorkLifeBalance              int64\n",
       "YearsAtCompany               int64\n",
       "YearsInCurrentRole           int64\n",
       "YearsSinceLastPromotion      int64\n",
       "YearsWithCurrManager         int64\n",
       "dtype: object"
      ]
     },
     "execution_count": 4,
     "metadata": {},
     "output_type": "execute_result"
    }
   ],
   "source": [
    "df.dtypes"
   ]
  },
  {
   "cell_type": "code",
   "execution_count": 5,
   "metadata": {
    "slideshow": {
     "slide_type": "subslide"
    }
   },
   "outputs": [],
   "source": [
    "df=df.drop([\"StandardHours\",\"Over18\",\"EmployeeCount\"],axis=1)"
   ]
  },
  {
   "cell_type": "code",
   "execution_count": 6,
   "metadata": {
    "slideshow": {
     "slide_type": "subslide"
    }
   },
   "outputs": [
    {
     "name": "stdout",
     "output_type": "stream",
     "text": [
      "Age\n",
      "Attrition\n",
      "BusinessTravel\n",
      "DailyRate\n",
      "Department\n",
      "DistanceFromHome\n",
      "Education\n",
      "EducationField\n",
      "EmployeeNumber\n",
      "EnvironmentSatisfaction\n",
      "Gender\n",
      "HourlyRate\n",
      "JobInvolvement\n",
      "JobLevel\n",
      "JobRole\n",
      "JobSatisfaction\n",
      "MaritalStatus\n",
      "MonthlyIncome\n",
      "MonthlyRate\n",
      "NumCompaniesWorked\n",
      "OverTime\n",
      "PercentSalaryHike\n",
      "PerformanceRating\n",
      "RelationshipSatisfaction\n",
      "StockOptionLevel\n",
      "TotalWorkingYears\n",
      "TrainingTimesLastYear\n",
      "WorkLifeBalance\n",
      "YearsAtCompany\n",
      "YearsInCurrentRole\n",
      "YearsSinceLastPromotion\n",
      "YearsWithCurrManager\n"
     ]
    }
   ],
   "source": [
    "for i in df.columns:\n",
    "    print(i)"
   ]
  },
  {
   "cell_type": "code",
   "execution_count": 7,
   "metadata": {
    "slideshow": {
     "slide_type": "subslide"
    }
   },
   "outputs": [],
   "source": [
    "categorical_variable=[]\n",
    "numerical_variables=[]\n",
    "for i in df.columns:\n",
    "    if(df[i].dtypes==np.int64 or df[i].dtypes==np.float64):\n",
    "        numerical_variables.append(i)\n",
    "    else:\n",
    "        categorical_variable.append(i)"
   ]
  },
  {
   "cell_type": "markdown",
   "metadata": {
    "slideshow": {
     "slide_type": "slide"
    }
   },
   "source": [
    "# Data Visualization"
   ]
  },
  {
   "cell_type": "code",
   "execution_count": 10,
   "metadata": {
    "slideshow": {
     "slide_type": "subslide"
    }
   },
   "outputs": [
    {
     "data": {
      "text/plain": [
       "<Figure size 2160x1440 with 0 Axes>"
      ]
     },
     "metadata": {},
     "output_type": "display_data"
    },
    {
     "data": {
      "image/png": "[encoded data removed]",
      "text/plain": [
       "<Figure size 432x288 with 1 Axes>"
      ]
     },
     "metadata": {
      "needs_background": "light"
     },
     "output_type": "display_data"
    }
   ],
   "source": [
    "\n",
    "plt.figure(figsize=(30,20))\n",
    "\n",
    "pd.crosstab(data.Age,data.Attrition).plot(kind='bar')\n",
    "plt.title(\"Age vs attrition\")\n",
    "\n",
    "plt.ylabel(\"Count of employee left\")\n",
    "plt.xlabel(\"Age\")\n",
    "plt.show()"
   ]
  },
  {
   "cell_type": "markdown",
   "metadata": {
    "slideshow": {
     "slide_type": "fragment"
    }
   },
   "source": [
    "From above graph we come to know that from age 28 to 37 attrition rate is high\n"
   ]
  },
  {
   "cell_type": "code",
   "execution_count": 34,
   "metadata": {
    "slideshow": {
     "slide_type": "subslide"
    }
   },
   "outputs": [
    {
     "data": {
      "text/plain": [
       "<Figure size 2160x1440 with 0 Axes>"
      ]
     },
     "execution_count": 34,
     "metadata": {},
     "output_type": "execute_result"
    },
    {
     "data": {
      "image/png": "[encoded data removed]",
      "text/plain": [
       "<Figure size 432x288 with 1 Axes>"
      ]
     },
     "metadata": {
      "needs_background": "light"
     },
     "output_type": "display_data"
    },
    {
     "data": {
      "text/plain": [
       "<Figure size 2160x1440 with 0 Axes>"
      ]
     },
     "metadata": {},
     "output_type": "display_data"
    }
   ],
   "source": [
    "pd.crosstab(data.DistanceFromHome,data.Attrition).plot(kind='bar')\n",
    "plt.figure(figsize=(30,20))"
   ]
  },
  {
   "cell_type": "markdown",
   "metadata": {
    "slideshow": {
     "slide_type": "fragment"
    }
   },
   "source": [
    "From above graph we come to know that when distancce is less the attrition rate is more"
   ]
  },
  {
   "cell_type": "code",
   "execution_count": 36,
   "metadata": {
    "slideshow": {
     "slide_type": "subslide"
    }
   },
   "outputs": [
    {
     "data": {
      "text/plain": [
       "<Figure size 2160x1440 with 0 Axes>"
      ]
     },
     "execution_count": 36,
     "metadata": {},
     "output_type": "execute_result"
    },
    {
     "data": {
      "image/png": "[encoded data removed]",
      "text/plain": [
       "<Figure size 432x288 with 1 Axes>"
      ]
     },
     "metadata": {
      "needs_background": "light"
     },
     "output_type": "display_data"
    },
    {
     "data": {
      "text/plain": [
       "<Figure size 2160x1440 with 0 Axes>"
      ]
     },
     "metadata": {},
     "output_type": "display_data"
    }
   ],
   "source": [
    "pd.crosstab(data.EducationField,data.Attrition).plot(kind='bar')\n",
    "plt.figure(figsize=(30,20))"
   ]
  },
  {
   "cell_type": "markdown",
   "metadata": {
    "slideshow": {
     "slide_type": "fragment"
    }
   },
   "source": [
    "So from above graph we conclude that The field with\n",
    "Life Science and medical has more attrition.But the employee\n",
    "Having Human Resources having less attrition \n"
   ]
  },
  {
   "cell_type": "code",
   "execution_count": 38,
   "metadata": {
    "slideshow": {
     "slide_type": "subslide"
    }
   },
   "outputs": [
    {
     "data": {
      "text/plain": [
       "<Figure size 2160x1440 with 0 Axes>"
      ]
     },
     "execution_count": 38,
     "metadata": {},
     "output_type": "execute_result"
    },
    {
     "data": {
      "image/png": "[encoded data removed]",
      "text/plain": [
       "<Figure size 432x288 with 1 Axes>"
      ]
     },
     "metadata": {
      "needs_background": "light"
     },
     "output_type": "display_data"
    },
    {
     "data": {
      "text/plain": [
       "<Figure size 2160x1440 with 0 Axes>"
      ]
     },
     "metadata": {},
     "output_type": "display_data"
    }
   ],
   "source": [
    "pd.crosstab(data.TrainingTimesLastYear,data.Attrition).plot(kind='bar')\n",
    "plt.figure(figsize=(30,20))"
   ]
  },
  {
   "cell_type": "markdown",
   "metadata": {
    "slideshow": {
     "slide_type": "fragment"
    }
   },
   "source": [
    "When training to the employee is not being done More three years\n",
    "then employee attrition rate is affected"
   ]
  },
  {
   "cell_type": "code",
   "execution_count": 40,
   "metadata": {
    "slideshow": {
     "slide_type": "subslide"
    }
   },
   "outputs": [
    {
     "data": {
      "text/plain": [
       "<Figure size 2160x1440 with 0 Axes>"
      ]
     },
     "execution_count": 40,
     "metadata": {},
     "output_type": "execute_result"
    },
    {
     "data": {
      "image/png": "[encoded data removed]",
      "text/plain": [
       "<Figure size 432x288 with 1 Axes>"
      ]
     },
     "metadata": {
      "needs_background": "light"
     },
     "output_type": "display_data"
    },
    {
     "data": {
      "text/plain": [
       "<Figure size 2160x1440 with 0 Axes>"
      ]
     },
     "metadata": {},
     "output_type": "display_data"
    }
   ],
   "source": [
    "pd.crosstab(data.TotalWorkingYears,data.Attrition).plot(kind='bar')\n",
    "plt.figure(figsize=(30,20))"
   ]
  },
  {
   "cell_type": "markdown",
   "metadata": {
    "slideshow": {
     "slide_type": "fragment"
    }
   },
   "source": [
    "When employee is working between 2-6 years has more chances of\n",
    "employee turnover but when empoyee has total working years of 40 years\n",
    "then the attrition rate is negligible"
   ]
  },
  {
   "cell_type": "code",
   "execution_count": 46,
   "metadata": {
    "slideshow": {
     "slide_type": "subslide"
    }
   },
   "outputs": [
    {
     "data": {
      "image/png": "[encoded data removed]",
      "text/plain": [
       "<Figure size 432x288 with 1 Axes>"
      ]
     },
     "metadata": {
      "needs_background": "light"
     },
     "output_type": "display_data"
    }
   ],
   "source": [
    "sns.distplot(df.MonthlyIncome, kde=False);"
   ]
  },
  {
   "cell_type": "markdown",
   "metadata": {
    "slideshow": {
     "slide_type": "fragment"
    }
   },
   "source": [
    "From above graph we can conclude that the bignners salary would be \n",
    "from 2500 to 7500 And employee with maximum experience would have salary of 20000"
   ]
  },
  {
   "cell_type": "code",
   "execution_count": 48,
   "metadata": {
    "slideshow": {
     "slide_type": "subslide"
    }
   },
   "outputs": [
    {
     "data": {
      "text/plain": [
       "<matplotlib.axes._subplots.AxesSubplot at 0x2eff0f12e8>"
      ]
     },
     "execution_count": 48,
     "metadata": {},
     "output_type": "execute_result"
    },
    {
     "data": {
      "image/png": "[encoded data removed]",
      "text/plain": [
       "<Figure size 1440x864 with 2 Axes>"
      ]
     },
     "metadata": {
      "needs_background": "light"
     },
     "output_type": "display_data"
    }
   ],
   "source": [
    "corr=df.corr()\n",
    "f , ax = plt.subplots(figsize=(20,12))\n",
    "sns.heatmap(corr,xticklabels=corr.columns,yticklabels=corr.columns)"
   ]
  },
  {
   "cell_type": "code",
   "execution_count": 49,
   "metadata": {
    "slideshow": {
     "slide_type": "subslide"
    }
   },
   "outputs": [
    {
     "data": {
      "text/plain": [
       "<matplotlib.axes._subplots.AxesSubplot at 0x2eff0ca390>"
      ]
     },
     "execution_count": 49,
     "metadata": {},
     "output_type": "execute_result"
    },
    {
     "data": {
      "image/png": "[encoded data removed]",
      "text/plain": [
       "<Figure size 432x288 with 1 Axes>"
      ]
     },
     "metadata": {
      "needs_background": "light"
     },
     "output_type": "display_data"
    }
   ],
   "source": [
    "missing_values=df.isna()\n",
    "sns.heatmap(data = missing_values, yticklabels=False, cbar=False, cmap='viridis')"
   ]
  },
  {
   "cell_type": "markdown",
   "metadata": {
    "slideshow": {
     "slide_type": "fragment"
    }
   },
   "source": [
    "From here we can conclude that there is no missing\n",
    "values but if there will be yellow marking then there is missing\n",
    "values"
   ]
  },
  {
   "cell_type": "code",
   "execution_count": 27,
   "metadata": {
    "slideshow": {
     "slide_type": "subslide"
    }
   },
   "outputs": [
    {
     "data": {
      "text/html": [
       "<div>\n",
       "<style scoped>\n",
       "    .dataframe tbody tr th:only-of-type {\n",
       "        vertical-align: middle;\n",
       "    }\n",
       "\n",
       "    .dataframe tbody tr th {\n",
       "        vertical-align: top;\n",
       "    }\n",
       "\n",
       "    .dataframe thead th {\n",
       "        text-align: right;\n",
       "    }\n",
       "</style>\n",
       "<table border=\"1\" class=\"dataframe\">\n",
       "  <thead>\n",
       "    <tr style=\"text-align: right;\">\n",
       "      <th></th>\n",
       "      <th>Age</th>\n",
       "      <th>Attrition</th>\n",
       "      <th>BusinessTravel</th>\n",
       "      <th>DailyRate</th>\n",
       "      <th>Department</th>\n",
       "      <th>DistanceFromHome</th>\n",
       "      <th>Education</th>\n",
       "      <th>EducationField</th>\n",
       "      <th>EmployeeNumber</th>\n",
       "      <th>EnvironmentSatisfaction</th>\n",
       "      <th>...</th>\n",
       "      <th>PerformanceRating</th>\n",
       "      <th>RelationshipSatisfaction</th>\n",
       "      <th>StockOptionLevel</th>\n",
       "      <th>TotalWorkingYears</th>\n",
       "      <th>TrainingTimesLastYear</th>\n",
       "      <th>WorkLifeBalance</th>\n",
       "      <th>YearsAtCompany</th>\n",
       "      <th>YearsInCurrentRole</th>\n",
       "      <th>YearsSinceLastPromotion</th>\n",
       "      <th>YearsWithCurrManager</th>\n",
       "    </tr>\n",
       "  </thead>\n",
       "  <tbody>\n",
       "    <tr>\n",
       "      <th>0</th>\n",
       "      <td>41</td>\n",
       "      <td>1</td>\n",
       "      <td>2</td>\n",
       "      <td>1102</td>\n",
       "      <td>2</td>\n",
       "      <td>1</td>\n",
       "      <td>2</td>\n",
       "      <td>1</td>\n",
       "      <td>1</td>\n",
       "      <td>2</td>\n",
       "      <td>...</td>\n",
       "      <td>3</td>\n",
       "      <td>1</td>\n",
       "      <td>0</td>\n",
       "      <td>8</td>\n",
       "      <td>0</td>\n",
       "      <td>1</td>\n",
       "      <td>6</td>\n",
       "      <td>4</td>\n",
       "      <td>0</td>\n",
       "      <td>5</td>\n",
       "    </tr>\n",
       "    <tr>\n",
       "      <th>1</th>\n",
       "      <td>49</td>\n",
       "      <td>0</td>\n",
       "      <td>1</td>\n",
       "      <td>279</td>\n",
       "      <td>1</td>\n",
       "      <td>8</td>\n",
       "      <td>1</td>\n",
       "      <td>1</td>\n",
       "      <td>2</td>\n",
       "      <td>3</td>\n",
       "      <td>...</td>\n",
       "      <td>4</td>\n",
       "      <td>4</td>\n",
       "      <td>1</td>\n",
       "      <td>10</td>\n",
       "      <td>3</td>\n",
       "      <td>3</td>\n",
       "      <td>10</td>\n",
       "      <td>7</td>\n",
       "      <td>1</td>\n",
       "      <td>7</td>\n",
       "    </tr>\n",
       "    <tr>\n",
       "      <th>2</th>\n",
       "      <td>37</td>\n",
       "      <td>1</td>\n",
       "      <td>2</td>\n",
       "      <td>1373</td>\n",
       "      <td>1</td>\n",
       "      <td>2</td>\n",
       "      <td>2</td>\n",
       "      <td>4</td>\n",
       "      <td>4</td>\n",
       "      <td>4</td>\n",
       "      <td>...</td>\n",
       "      <td>3</td>\n",
       "      <td>2</td>\n",
       "      <td>0</td>\n",
       "      <td>7</td>\n",
       "      <td>3</td>\n",
       "      <td>3</td>\n",
       "      <td>0</td>\n",
       "      <td>0</td>\n",
       "      <td>0</td>\n",
       "      <td>0</td>\n",
       "    </tr>\n",
       "    <tr>\n",
       "      <th>3</th>\n",
       "      <td>33</td>\n",
       "      <td>0</td>\n",
       "      <td>1</td>\n",
       "      <td>1392</td>\n",
       "      <td>1</td>\n",
       "      <td>3</td>\n",
       "      <td>4</td>\n",
       "      <td>1</td>\n",
       "      <td>5</td>\n",
       "      <td>4</td>\n",
       "      <td>...</td>\n",
       "      <td>3</td>\n",
       "      <td>3</td>\n",
       "      <td>0</td>\n",
       "      <td>8</td>\n",
       "      <td>3</td>\n",
       "      <td>3</td>\n",
       "      <td>8</td>\n",
       "      <td>7</td>\n",
       "      <td>3</td>\n",
       "      <td>0</td>\n",
       "    </tr>\n",
       "    <tr>\n",
       "      <th>4</th>\n",
       "      <td>27</td>\n",
       "      <td>0</td>\n",
       "      <td>2</td>\n",
       "      <td>591</td>\n",
       "      <td>1</td>\n",
       "      <td>2</td>\n",
       "      <td>1</td>\n",
       "      <td>3</td>\n",
       "      <td>7</td>\n",
       "      <td>1</td>\n",
       "      <td>...</td>\n",
       "      <td>3</td>\n",
       "      <td>4</td>\n",
       "      <td>1</td>\n",
       "      <td>6</td>\n",
       "      <td>3</td>\n",
       "      <td>3</td>\n",
       "      <td>2</td>\n",
       "      <td>2</td>\n",
       "      <td>2</td>\n",
       "      <td>2</td>\n",
       "    </tr>\n",
       "    <tr>\n",
       "      <th>...</th>\n",
       "      <td>...</td>\n",
       "      <td>...</td>\n",
       "      <td>...</td>\n",
       "      <td>...</td>\n",
       "      <td>...</td>\n",
       "      <td>...</td>\n",
       "      <td>...</td>\n",
       "      <td>...</td>\n",
       "      <td>...</td>\n",
       "      <td>...</td>\n",
       "      <td>...</td>\n",
       "      <td>...</td>\n",
       "      <td>...</td>\n",
       "      <td>...</td>\n",
       "      <td>...</td>\n",
       "      <td>...</td>\n",
       "      <td>...</td>\n",
       "      <td>...</td>\n",
       "      <td>...</td>\n",
       "      <td>...</td>\n",
       "      <td>...</td>\n",
       "    </tr>\n",
       "    <tr>\n",
       "      <th>1465</th>\n",
       "      <td>36</td>\n",
       "      <td>0</td>\n",
       "      <td>1</td>\n",
       "      <td>884</td>\n",
       "      <td>1</td>\n",
       "      <td>23</td>\n",
       "      <td>2</td>\n",
       "      <td>3</td>\n",
       "      <td>2061</td>\n",
       "      <td>3</td>\n",
       "      <td>...</td>\n",
       "      <td>3</td>\n",
       "      <td>3</td>\n",
       "      <td>1</td>\n",
       "      <td>17</td>\n",
       "      <td>3</td>\n",
       "      <td>3</td>\n",
       "      <td>5</td>\n",
       "      <td>2</td>\n",
       "      <td>0</td>\n",
       "      <td>3</td>\n",
       "    </tr>\n",
       "    <tr>\n",
       "      <th>1466</th>\n",
       "      <td>39</td>\n",
       "      <td>0</td>\n",
       "      <td>2</td>\n",
       "      <td>613</td>\n",
       "      <td>1</td>\n",
       "      <td>6</td>\n",
       "      <td>1</td>\n",
       "      <td>3</td>\n",
       "      <td>2062</td>\n",
       "      <td>4</td>\n",
       "      <td>...</td>\n",
       "      <td>3</td>\n",
       "      <td>1</td>\n",
       "      <td>1</td>\n",
       "      <td>9</td>\n",
       "      <td>5</td>\n",
       "      <td>3</td>\n",
       "      <td>7</td>\n",
       "      <td>7</td>\n",
       "      <td>1</td>\n",
       "      <td>7</td>\n",
       "    </tr>\n",
       "    <tr>\n",
       "      <th>1467</th>\n",
       "      <td>27</td>\n",
       "      <td>0</td>\n",
       "      <td>2</td>\n",
       "      <td>155</td>\n",
       "      <td>1</td>\n",
       "      <td>4</td>\n",
       "      <td>3</td>\n",
       "      <td>1</td>\n",
       "      <td>2064</td>\n",
       "      <td>2</td>\n",
       "      <td>...</td>\n",
       "      <td>4</td>\n",
       "      <td>2</td>\n",
       "      <td>1</td>\n",
       "      <td>6</td>\n",
       "      <td>0</td>\n",
       "      <td>3</td>\n",
       "      <td>6</td>\n",
       "      <td>2</td>\n",
       "      <td>0</td>\n",
       "      <td>3</td>\n",
       "    </tr>\n",
       "    <tr>\n",
       "      <th>1468</th>\n",
       "      <td>49</td>\n",
       "      <td>0</td>\n",
       "      <td>1</td>\n",
       "      <td>1023</td>\n",
       "      <td>2</td>\n",
       "      <td>2</td>\n",
       "      <td>3</td>\n",
       "      <td>3</td>\n",
       "      <td>2065</td>\n",
       "      <td>4</td>\n",
       "      <td>...</td>\n",
       "      <td>3</td>\n",
       "      <td>4</td>\n",
       "      <td>0</td>\n",
       "      <td>17</td>\n",
       "      <td>3</td>\n",
       "      <td>2</td>\n",
       "      <td>9</td>\n",
       "      <td>6</td>\n",
       "      <td>0</td>\n",
       "      <td>8</td>\n",
       "    </tr>\n",
       "    <tr>\n",
       "      <th>1469</th>\n",
       "      <td>34</td>\n",
       "      <td>0</td>\n",
       "      <td>2</td>\n",
       "      <td>628</td>\n",
       "      <td>1</td>\n",
       "      <td>8</td>\n",
       "      <td>3</td>\n",
       "      <td>3</td>\n",
       "      <td>2068</td>\n",
       "      <td>2</td>\n",
       "      <td>...</td>\n",
       "      <td>3</td>\n",
       "      <td>1</td>\n",
       "      <td>0</td>\n",
       "      <td>6</td>\n",
       "      <td>3</td>\n",
       "      <td>4</td>\n",
       "      <td>4</td>\n",
       "      <td>3</td>\n",
       "      <td>1</td>\n",
       "      <td>2</td>\n",
       "    </tr>\n",
       "  </tbody>\n",
       "</table>\n",
       "<p>1470 rows × 32 columns</p>\n",
       "</div>"
      ],
      "text/plain": [
       "      Age  Attrition  BusinessTravel  DailyRate  Department  DistanceFromHome  \\\n",
       "0      41          1               2       1102           2                 1   \n",
       "1      49          0               1        279           1                 8   \n",
       "2      37          1               2       1373           1                 2   \n",
       "3      33          0               1       1392           1                 3   \n",
       "4      27          0               2        591           1                 2   \n",
       "...   ...        ...             ...        ...         ...               ...   \n",
       "1465   36          0               1        884           1                23   \n",
       "1466   39          0               2        613           1                 6   \n",
       "1467   27          0               2        155           1                 4   \n",
       "1468   49          0               1       1023           2                 2   \n",
       "1469   34          0               2        628           1                 8   \n",
       "\n",
       "      Education  EducationField  EmployeeNumber  EnvironmentSatisfaction  ...  \\\n",
       "0             2               1               1                        2  ...   \n",
       "1             1               1               2                        3  ...   \n",
       "2             2               4               4                        4  ...   \n",
       "3             4               1               5                        4  ...   \n",
       "4             1               3               7                        1  ...   \n",
       "...         ...             ...             ...                      ...  ...   \n",
       "1465          2               3            2061                        3  ...   \n",
       "1466          1               3            2062                        4  ...   \n",
       "1467          3               1            2064                        2  ...   \n",
       "1468          3               3            2065                        4  ...   \n",
       "1469          3               3            2068                        2  ...   \n",
       "\n",
       "      PerformanceRating  RelationshipSatisfaction  StockOptionLevel  \\\n",
       "0                     3                         1                 0   \n",
       "1                     4                         4                 1   \n",
       "2                     3                         2                 0   \n",
       "3                     3                         3                 0   \n",
       "4                     3                         4                 1   \n",
       "...                 ...                       ...               ...   \n",
       "1465                  3                         3                 1   \n",
       "1466                  3                         1                 1   \n",
       "1467                  4                         2                 1   \n",
       "1468                  3                         4                 0   \n",
       "1469                  3                         1                 0   \n",
       "\n",
       "      TotalWorkingYears  TrainingTimesLastYear  WorkLifeBalance  \\\n",
       "0                     8                      0                1   \n",
       "1                    10                      3                3   \n",
       "2                     7                      3                3   \n",
       "3                     8                      3                3   \n",
       "4                     6                      3                3   \n",
       "...                 ...                    ...              ...   \n",
       "1465                 17                      3                3   \n",
       "1466                  9                      5                3   \n",
       "1467                  6                      0                3   \n",
       "1468                 17                      3                2   \n",
       "1469                  6                      3                4   \n",
       "\n",
       "      YearsAtCompany  YearsInCurrentRole  YearsSinceLastPromotion  \\\n",
       "0                  6                   4                        0   \n",
       "1                 10                   7                        1   \n",
       "2                  0                   0                        0   \n",
       "3                  8                   7                        3   \n",
       "4                  2                   2                        2   \n",
       "...              ...                 ...                      ...   \n",
       "1465               5                   2                        0   \n",
       "1466               7                   7                        1   \n",
       "1467               6                   2                        0   \n",
       "1468               9                   6                        0   \n",
       "1469               4                   3                        1   \n",
       "\n",
       "      YearsWithCurrManager  \n",
       "0                        5  \n",
       "1                        7  \n",
       "2                        0  \n",
       "3                        0  \n",
       "4                        2  \n",
       "...                    ...  \n",
       "1465                     3  \n",
       "1466                     7  \n",
       "1467                     3  \n",
       "1468                     8  \n",
       "1469                     2  \n",
       "\n",
       "[1470 rows x 32 columns]"
      ]
     },
     "execution_count": 27,
     "metadata": {},
     "output_type": "execute_result"
    }
   ],
   "source": [
    "encoder=LabelEncoder()\n",
    "for i in categorical_variable:\n",
    "    df[i]=encoder.fit_transform(df[i])\n",
    "df"
   ]
  },
  {
   "cell_type": "markdown",
   "metadata": {
    "slideshow": {
     "slide_type": "slide"
    }
   },
   "source": [
    "# Data Preprocessing"
   ]
  },
  {
   "cell_type": "code",
   "execution_count": 29,
   "metadata": {
    "slideshow": {
     "slide_type": "subslide"
    }
   },
   "outputs": [],
   "source": [
    "x=df.drop(\"Attrition\",axis=1)\n",
    "y=df[\"Attrition\"]"
   ]
  },
  {
   "cell_type": "code",
   "execution_count": 30,
   "metadata": {
    "slideshow": {
     "slide_type": "subslide"
    }
   },
   "outputs": [
    {
     "name": "stdout",
     "output_type": "stream",
     "text": [
      "[8.416e+01 2.203e-06 9.566e+02 1.329e+00 6.377e+01 5.206e-01 8.349e-01\n",
      " 5.812e+01 6.891e+00 5.101e-01 4.318e-01 4.606e+00 2.494e+01 9.004e+00\n",
      " 7.012e+00 1.875e+01 1.279e+05 1.197e+03 6.439e+00 6.385e+01 2.350e-01\n",
      " 5.061e-04 1.332e+00 2.527e+01 2.307e+02 3.086e+00 1.086e+00 1.421e+02\n",
      " 1.175e+02 7.602e+00 1.107e+02]\n",
      "[[  41 1102    1 ...    4    0    5]\n",
      " [  49  279    8 ...    7    1    7]\n",
      " [  37 1373    2 ...    0    0    0]\n",
      " ...\n",
      " [  27  155    4 ...    2    0    3]\n",
      " [  49 1023    2 ...    6    0    8]\n",
      " [  34  628    8 ...    3    1    2]]\n"
     ]
    },
    {
     "data": {
      "text/html": [
       "<div>\n",
       "<style scoped>\n",
       "    .dataframe tbody tr th:only-of-type {\n",
       "        vertical-align: middle;\n",
       "    }\n",
       "\n",
       "    .dataframe tbody tr th {\n",
       "        vertical-align: top;\n",
       "    }\n",
       "\n",
       "    .dataframe thead th {\n",
       "        text-align: right;\n",
       "    }\n",
       "</style>\n",
       "<table border=\"1\" class=\"dataframe\">\n",
       "  <thead>\n",
       "    <tr style=\"text-align: right;\">\n",
       "      <th></th>\n",
       "      <th>0</th>\n",
       "      <th>1</th>\n",
       "      <th>2</th>\n",
       "      <th>3</th>\n",
       "      <th>4</th>\n",
       "      <th>5</th>\n",
       "      <th>6</th>\n",
       "      <th>7</th>\n",
       "      <th>8</th>\n",
       "      <th>9</th>\n",
       "      <th>10</th>\n",
       "      <th>11</th>\n",
       "      <th>12</th>\n",
       "      <th>13</th>\n",
       "      <th>14</th>\n",
       "      <th>15</th>\n",
       "    </tr>\n",
       "  </thead>\n",
       "  <tbody>\n",
       "    <tr>\n",
       "      <th>0</th>\n",
       "      <td>41</td>\n",
       "      <td>1102</td>\n",
       "      <td>1</td>\n",
       "      <td>1</td>\n",
       "      <td>2</td>\n",
       "      <td>7</td>\n",
       "      <td>2</td>\n",
       "      <td>5993</td>\n",
       "      <td>19479</td>\n",
       "      <td>1</td>\n",
       "      <td>0</td>\n",
       "      <td>8</td>\n",
       "      <td>6</td>\n",
       "      <td>4</td>\n",
       "      <td>0</td>\n",
       "      <td>5</td>\n",
       "    </tr>\n",
       "    <tr>\n",
       "      <th>1</th>\n",
       "      <td>49</td>\n",
       "      <td>279</td>\n",
       "      <td>8</td>\n",
       "      <td>2</td>\n",
       "      <td>2</td>\n",
       "      <td>6</td>\n",
       "      <td>1</td>\n",
       "      <td>5130</td>\n",
       "      <td>24907</td>\n",
       "      <td>0</td>\n",
       "      <td>1</td>\n",
       "      <td>10</td>\n",
       "      <td>10</td>\n",
       "      <td>7</td>\n",
       "      <td>1</td>\n",
       "      <td>7</td>\n",
       "    </tr>\n",
       "    <tr>\n",
       "      <th>2</th>\n",
       "      <td>37</td>\n",
       "      <td>1373</td>\n",
       "      <td>2</td>\n",
       "      <td>4</td>\n",
       "      <td>1</td>\n",
       "      <td>2</td>\n",
       "      <td>2</td>\n",
       "      <td>2090</td>\n",
       "      <td>2396</td>\n",
       "      <td>1</td>\n",
       "      <td>0</td>\n",
       "      <td>7</td>\n",
       "      <td>0</td>\n",
       "      <td>0</td>\n",
       "      <td>0</td>\n",
       "      <td>0</td>\n",
       "    </tr>\n",
       "    <tr>\n",
       "      <th>3</th>\n",
       "      <td>33</td>\n",
       "      <td>1392</td>\n",
       "      <td>3</td>\n",
       "      <td>5</td>\n",
       "      <td>1</td>\n",
       "      <td>6</td>\n",
       "      <td>1</td>\n",
       "      <td>2909</td>\n",
       "      <td>23159</td>\n",
       "      <td>1</td>\n",
       "      <td>0</td>\n",
       "      <td>8</td>\n",
       "      <td>8</td>\n",
       "      <td>7</td>\n",
       "      <td>3</td>\n",
       "      <td>0</td>\n",
       "    </tr>\n",
       "    <tr>\n",
       "      <th>4</th>\n",
       "      <td>27</td>\n",
       "      <td>591</td>\n",
       "      <td>2</td>\n",
       "      <td>7</td>\n",
       "      <td>1</td>\n",
       "      <td>2</td>\n",
       "      <td>1</td>\n",
       "      <td>3468</td>\n",
       "      <td>16632</td>\n",
       "      <td>0</td>\n",
       "      <td>1</td>\n",
       "      <td>6</td>\n",
       "      <td>2</td>\n",
       "      <td>2</td>\n",
       "      <td>2</td>\n",
       "      <td>2</td>\n",
       "    </tr>\n",
       "    <tr>\n",
       "      <th>...</th>\n",
       "      <td>...</td>\n",
       "      <td>...</td>\n",
       "      <td>...</td>\n",
       "      <td>...</td>\n",
       "      <td>...</td>\n",
       "      <td>...</td>\n",
       "      <td>...</td>\n",
       "      <td>...</td>\n",
       "      <td>...</td>\n",
       "      <td>...</td>\n",
       "      <td>...</td>\n",
       "      <td>...</td>\n",
       "      <td>...</td>\n",
       "      <td>...</td>\n",
       "      <td>...</td>\n",
       "      <td>...</td>\n",
       "    </tr>\n",
       "    <tr>\n",
       "      <th>1465</th>\n",
       "      <td>36</td>\n",
       "      <td>884</td>\n",
       "      <td>23</td>\n",
       "      <td>2061</td>\n",
       "      <td>2</td>\n",
       "      <td>2</td>\n",
       "      <td>1</td>\n",
       "      <td>2571</td>\n",
       "      <td>12290</td>\n",
       "      <td>0</td>\n",
       "      <td>1</td>\n",
       "      <td>17</td>\n",
       "      <td>5</td>\n",
       "      <td>2</td>\n",
       "      <td>0</td>\n",
       "      <td>3</td>\n",
       "    </tr>\n",
       "    <tr>\n",
       "      <th>1466</th>\n",
       "      <td>39</td>\n",
       "      <td>613</td>\n",
       "      <td>6</td>\n",
       "      <td>2062</td>\n",
       "      <td>3</td>\n",
       "      <td>0</td>\n",
       "      <td>1</td>\n",
       "      <td>9991</td>\n",
       "      <td>21457</td>\n",
       "      <td>0</td>\n",
       "      <td>1</td>\n",
       "      <td>9</td>\n",
       "      <td>7</td>\n",
       "      <td>7</td>\n",
       "      <td>1</td>\n",
       "      <td>7</td>\n",
       "    </tr>\n",
       "    <tr>\n",
       "      <th>1467</th>\n",
       "      <td>27</td>\n",
       "      <td>155</td>\n",
       "      <td>4</td>\n",
       "      <td>2064</td>\n",
       "      <td>2</td>\n",
       "      <td>4</td>\n",
       "      <td>1</td>\n",
       "      <td>6142</td>\n",
       "      <td>5174</td>\n",
       "      <td>1</td>\n",
       "      <td>1</td>\n",
       "      <td>6</td>\n",
       "      <td>6</td>\n",
       "      <td>2</td>\n",
       "      <td>0</td>\n",
       "      <td>3</td>\n",
       "    </tr>\n",
       "    <tr>\n",
       "      <th>1468</th>\n",
       "      <td>49</td>\n",
       "      <td>1023</td>\n",
       "      <td>2</td>\n",
       "      <td>2065</td>\n",
       "      <td>2</td>\n",
       "      <td>7</td>\n",
       "      <td>1</td>\n",
       "      <td>5390</td>\n",
       "      <td>13243</td>\n",
       "      <td>0</td>\n",
       "      <td>0</td>\n",
       "      <td>17</td>\n",
       "      <td>9</td>\n",
       "      <td>6</td>\n",
       "      <td>0</td>\n",
       "      <td>8</td>\n",
       "    </tr>\n",
       "    <tr>\n",
       "      <th>1469</th>\n",
       "      <td>34</td>\n",
       "      <td>628</td>\n",
       "      <td>8</td>\n",
       "      <td>2068</td>\n",
       "      <td>2</td>\n",
       "      <td>2</td>\n",
       "      <td>1</td>\n",
       "      <td>4404</td>\n",
       "      <td>10228</td>\n",
       "      <td>0</td>\n",
       "      <td>0</td>\n",
       "      <td>6</td>\n",
       "      <td>4</td>\n",
       "      <td>3</td>\n",
       "      <td>1</td>\n",
       "      <td>2</td>\n",
       "    </tr>\n",
       "  </tbody>\n",
       "</table>\n",
       "<p>1470 rows × 16 columns</p>\n",
       "</div>"
      ],
      "text/plain": [
       "       0     1   2     3  4  5  6     7      8  9  10  11  12  13  14  15\n",
       "0     41  1102   1     1  2  7  2  5993  19479  1   0   8   6   4   0   5\n",
       "1     49   279   8     2  2  6  1  5130  24907  0   1  10  10   7   1   7\n",
       "2     37  1373   2     4  1  2  2  2090   2396  1   0   7   0   0   0   0\n",
       "3     33  1392   3     5  1  6  1  2909  23159  1   0   8   8   7   3   0\n",
       "4     27   591   2     7  1  2  1  3468  16632  0   1   6   2   2   2   2\n",
       "...   ..   ...  ..   ... .. .. ..   ...    ... ..  ..  ..  ..  ..  ..  ..\n",
       "1465  36   884  23  2061  2  2  1  2571  12290  0   1  17   5   2   0   3\n",
       "1466  39   613   6  2062  3  0  1  9991  21457  0   1   9   7   7   1   7\n",
       "1467  27   155   4  2064  2  4  1  6142   5174  1   1   6   6   2   0   3\n",
       "1468  49  1023   2  2065  2  7  1  5390  13243  0   0  17   9   6   0   8\n",
       "1469  34   628   8  2068  2  2  1  4404  10228  0   0   6   4   3   1   2\n",
       "\n",
       "[1470 rows x 16 columns]"
      ]
     },
     "execution_count": 30,
     "metadata": {},
     "output_type": "execute_result"
    }
   ],
   "source": [
    "test = SelectKBest(score_func=chi2, k=16)##we will get 16 columns automatically selected\n",
    "fit = test.fit(x, y)\n",
    "# summarize scores\n",
    "np.set_printoptions(precision=3)##upto 3 decimal accuracy not compulsary\n",
    "print(fit.scores_)\n",
    "features = fit.transform(x)##coverts to matrix\n",
    "# summarize selected features\n",
    "print(features)\n",
    "df1=pd.DataFrame(features)\n",
    "df1\n"
   ]
  },
  {
   "cell_type": "markdown",
   "metadata": {
    "slideshow": {
     "slide_type": "fragment"
    }
   },
   "source": [
    "From above 32 columns we now selected 16 most important columns and they are\n",
    "YearsWithCurrManager,YearsSinceLastPromotion,YearsInCurrentRole,YearsAtCompany\n",
    "TotalWorkingYears,\tStockOptionLevel\t,MonthlyRate,MonthlyIncome,DailyRate,Age,\n",
    "DistanceFromHome,EmployeeNumber,EducationalField"
   ]
  },
  {
   "cell_type": "code",
   "execution_count": 36,
   "metadata": {
    "slideshow": {
     "slide_type": "subslide"
    }
   },
   "outputs": [
    {
     "data": {
      "text/html": [
       "<div>\n",
       "<style scoped>\n",
       "    .dataframe tbody tr th:only-of-type {\n",
       "        vertical-align: middle;\n",
       "    }\n",
       "\n",
       "    .dataframe tbody tr th {\n",
       "        vertical-align: top;\n",
       "    }\n",
       "\n",
       "    .dataframe thead th {\n",
       "        text-align: right;\n",
       "    }\n",
       "</style>\n",
       "<table border=\"1\" class=\"dataframe\">\n",
       "  <thead>\n",
       "    <tr style=\"text-align: right;\">\n",
       "      <th></th>\n",
       "      <th>0</th>\n",
       "      <th>1</th>\n",
       "      <th>2</th>\n",
       "      <th>3</th>\n",
       "      <th>4</th>\n",
       "      <th>5</th>\n",
       "      <th>6</th>\n",
       "      <th>7</th>\n",
       "      <th>8</th>\n",
       "      <th>9</th>\n",
       "      <th>10</th>\n",
       "      <th>11</th>\n",
       "      <th>12</th>\n",
       "      <th>13</th>\n",
       "      <th>14</th>\n",
       "      <th>15</th>\n",
       "    </tr>\n",
       "  </thead>\n",
       "  <tbody>\n",
       "    <tr>\n",
       "      <th>0</th>\n",
       "      <td>0.446350</td>\n",
       "      <td>0.742527</td>\n",
       "      <td>-1.010909</td>\n",
       "      <td>-1.701283</td>\n",
       "      <td>-0.057788</td>\n",
       "      <td>1.032716</td>\n",
       "      <td>1.236820</td>\n",
       "      <td>-0.108350</td>\n",
       "      <td>0.726020</td>\n",
       "      <td>1.591746</td>\n",
       "      <td>-0.932014</td>\n",
       "      <td>-0.421642</td>\n",
       "      <td>-0.164613</td>\n",
       "      <td>-0.063296</td>\n",
       "      <td>-0.679146</td>\n",
       "      <td>0.245834</td>\n",
       "    </tr>\n",
       "    <tr>\n",
       "      <th>1</th>\n",
       "      <td>1.322365</td>\n",
       "      <td>-1.297775</td>\n",
       "      <td>-0.147150</td>\n",
       "      <td>-1.699621</td>\n",
       "      <td>-0.057788</td>\n",
       "      <td>0.626374</td>\n",
       "      <td>-0.133282</td>\n",
       "      <td>-0.291719</td>\n",
       "      <td>1.488876</td>\n",
       "      <td>-0.628241</td>\n",
       "      <td>0.241988</td>\n",
       "      <td>-0.164511</td>\n",
       "      <td>0.488508</td>\n",
       "      <td>0.764998</td>\n",
       "      <td>-0.368715</td>\n",
       "      <td>0.806541</td>\n",
       "    </tr>\n",
       "    <tr>\n",
       "      <th>2</th>\n",
       "      <td>0.008343</td>\n",
       "      <td>1.414363</td>\n",
       "      <td>-0.887515</td>\n",
       "      <td>-1.696298</td>\n",
       "      <td>-0.961486</td>\n",
       "      <td>-0.998992</td>\n",
       "      <td>1.236820</td>\n",
       "      <td>-0.937654</td>\n",
       "      <td>-1.674841</td>\n",
       "      <td>1.591746</td>\n",
       "      <td>-0.932014</td>\n",
       "      <td>-0.550208</td>\n",
       "      <td>-1.144294</td>\n",
       "      <td>-1.167687</td>\n",
       "      <td>-0.679146</td>\n",
       "      <td>-1.155935</td>\n",
       "    </tr>\n",
       "    <tr>\n",
       "      <th>3</th>\n",
       "      <td>-0.429664</td>\n",
       "      <td>1.461466</td>\n",
       "      <td>-0.764121</td>\n",
       "      <td>-1.694636</td>\n",
       "      <td>-0.961486</td>\n",
       "      <td>0.626374</td>\n",
       "      <td>-0.133282</td>\n",
       "      <td>-0.763634</td>\n",
       "      <td>1.243211</td>\n",
       "      <td>1.591746</td>\n",
       "      <td>-0.932014</td>\n",
       "      <td>-0.421642</td>\n",
       "      <td>0.161947</td>\n",
       "      <td>0.764998</td>\n",
       "      <td>0.252146</td>\n",
       "      <td>-1.155935</td>\n",
       "    </tr>\n",
       "    <tr>\n",
       "      <th>4</th>\n",
       "      <td>-1.086676</td>\n",
       "      <td>-0.524295</td>\n",
       "      <td>-0.887515</td>\n",
       "      <td>-1.691313</td>\n",
       "      <td>-0.961486</td>\n",
       "      <td>-0.998992</td>\n",
       "      <td>-0.133282</td>\n",
       "      <td>-0.644858</td>\n",
       "      <td>0.325900</td>\n",
       "      <td>-0.628241</td>\n",
       "      <td>0.241988</td>\n",
       "      <td>-0.678774</td>\n",
       "      <td>-0.817734</td>\n",
       "      <td>-0.615492</td>\n",
       "      <td>-0.058285</td>\n",
       "      <td>-0.595227</td>\n",
       "    </tr>\n",
       "    <tr>\n",
       "      <th>...</th>\n",
       "      <td>...</td>\n",
       "      <td>...</td>\n",
       "      <td>...</td>\n",
       "      <td>...</td>\n",
       "      <td>...</td>\n",
       "      <td>...</td>\n",
       "      <td>...</td>\n",
       "      <td>...</td>\n",
       "      <td>...</td>\n",
       "      <td>...</td>\n",
       "      <td>...</td>\n",
       "      <td>...</td>\n",
       "      <td>...</td>\n",
       "      <td>...</td>\n",
       "      <td>...</td>\n",
       "      <td>...</td>\n",
       "    </tr>\n",
       "    <tr>\n",
       "      <th>1465</th>\n",
       "      <td>-0.101159</td>\n",
       "      <td>0.202082</td>\n",
       "      <td>1.703764</td>\n",
       "      <td>1.721670</td>\n",
       "      <td>-0.057788</td>\n",
       "      <td>-0.998992</td>\n",
       "      <td>-0.133282</td>\n",
       "      <td>-0.835451</td>\n",
       "      <td>-0.284329</td>\n",
       "      <td>-0.628241</td>\n",
       "      <td>0.241988</td>\n",
       "      <td>0.735447</td>\n",
       "      <td>-0.327893</td>\n",
       "      <td>-0.615492</td>\n",
       "      <td>-0.679146</td>\n",
       "      <td>-0.314873</td>\n",
       "    </tr>\n",
       "    <tr>\n",
       "      <th>1466</th>\n",
       "      <td>0.227347</td>\n",
       "      <td>-0.469754</td>\n",
       "      <td>-0.393938</td>\n",
       "      <td>1.723332</td>\n",
       "      <td>0.845911</td>\n",
       "      <td>-1.811675</td>\n",
       "      <td>-0.133282</td>\n",
       "      <td>0.741140</td>\n",
       "      <td>1.004010</td>\n",
       "      <td>-0.628241</td>\n",
       "      <td>0.241988</td>\n",
       "      <td>-0.293077</td>\n",
       "      <td>-0.001333</td>\n",
       "      <td>0.764998</td>\n",
       "      <td>-0.368715</td>\n",
       "      <td>0.806541</td>\n",
       "    </tr>\n",
       "    <tr>\n",
       "      <th>1467</th>\n",
       "      <td>-1.086676</td>\n",
       "      <td>-1.605183</td>\n",
       "      <td>-0.640727</td>\n",
       "      <td>1.726655</td>\n",
       "      <td>-0.057788</td>\n",
       "      <td>-0.186309</td>\n",
       "      <td>-0.133282</td>\n",
       "      <td>-0.076690</td>\n",
       "      <td>-1.284418</td>\n",
       "      <td>1.591746</td>\n",
       "      <td>0.241988</td>\n",
       "      <td>-0.678774</td>\n",
       "      <td>-0.164613</td>\n",
       "      <td>-0.615492</td>\n",
       "      <td>-0.679146</td>\n",
       "      <td>-0.314873</td>\n",
       "    </tr>\n",
       "    <tr>\n",
       "      <th>1468</th>\n",
       "      <td>1.322365</td>\n",
       "      <td>0.546677</td>\n",
       "      <td>-0.887515</td>\n",
       "      <td>1.728317</td>\n",
       "      <td>-0.057788</td>\n",
       "      <td>1.032716</td>\n",
       "      <td>-0.133282</td>\n",
       "      <td>-0.236474</td>\n",
       "      <td>-0.150393</td>\n",
       "      <td>-0.628241</td>\n",
       "      <td>-0.932014</td>\n",
       "      <td>0.735447</td>\n",
       "      <td>0.325228</td>\n",
       "      <td>0.488900</td>\n",
       "      <td>-0.679146</td>\n",
       "      <td>1.086895</td>\n",
       "    </tr>\n",
       "    <tr>\n",
       "      <th>1469</th>\n",
       "      <td>-0.320163</td>\n",
       "      <td>-0.432568</td>\n",
       "      <td>-0.147150</td>\n",
       "      <td>1.733302</td>\n",
       "      <td>-0.057788</td>\n",
       "      <td>-0.998992</td>\n",
       "      <td>-0.133282</td>\n",
       "      <td>-0.445978</td>\n",
       "      <td>-0.574124</td>\n",
       "      <td>-0.628241</td>\n",
       "      <td>-0.932014</td>\n",
       "      <td>-0.678774</td>\n",
       "      <td>-0.491174</td>\n",
       "      <td>-0.339394</td>\n",
       "      <td>-0.368715</td>\n",
       "      <td>-0.595227</td>\n",
       "    </tr>\n",
       "  </tbody>\n",
       "</table>\n",
       "<p>1470 rows × 16 columns</p>\n",
       "</div>"
      ],
      "text/plain": [
       "             0         1         2         3         4         5         6  \\\n",
       "0     0.446350  0.742527 -1.010909 -1.701283 -0.057788  1.032716  1.236820   \n",
       "1     1.322365 -1.297775 -0.147150 -1.699621 -0.057788  0.626374 -0.133282   \n",
       "2     0.008343  1.414363 -0.887515 -1.696298 -0.961486 -0.998992  1.236820   \n",
       "3    -0.429664  1.461466 -0.764121 -1.694636 -0.961486  0.626374 -0.133282   \n",
       "4    -1.086676 -0.524295 -0.887515 -1.691313 -0.961486 -0.998992 -0.133282   \n",
       "...        ...       ...       ...       ...       ...       ...       ...   \n",
       "1465 -0.101159  0.202082  1.703764  1.721670 -0.057788 -0.998992 -0.133282   \n",
       "1466  0.227347 -0.469754 -0.393938  1.723332  0.845911 -1.811675 -0.133282   \n",
       "1467 -1.086676 -1.605183 -0.640727  1.726655 -0.057788 -0.186309 -0.133282   \n",
       "1468  1.322365  0.546677 -0.887515  1.728317 -0.057788  1.032716 -0.133282   \n",
       "1469 -0.320163 -0.432568 -0.147150  1.733302 -0.057788 -0.998992 -0.133282   \n",
       "\n",
       "             7         8         9        10        11        12        13  \\\n",
       "0    -0.108350  0.726020  1.591746 -0.932014 -0.421642 -0.164613 -0.063296   \n",
       "1    -0.291719  1.488876 -0.628241  0.241988 -0.164511  0.488508  0.764998   \n",
       "2    -0.937654 -1.674841  1.591746 -0.932014 -0.550208 -1.144294 -1.167687   \n",
       "3    -0.763634  1.243211  1.591746 -0.932014 -0.421642  0.161947  0.764998   \n",
       "4    -0.644858  0.325900 -0.628241  0.241988 -0.678774 -0.817734 -0.615492   \n",
       "...        ...       ...       ...       ...       ...       ...       ...   \n",
       "1465 -0.835451 -0.284329 -0.628241  0.241988  0.735447 -0.327893 -0.615492   \n",
       "1466  0.741140  1.004010 -0.628241  0.241988 -0.293077 -0.001333  0.764998   \n",
       "1467 -0.076690 -1.284418  1.591746  0.241988 -0.678774 -0.164613 -0.615492   \n",
       "1468 -0.236474 -0.150393 -0.628241 -0.932014  0.735447  0.325228  0.488900   \n",
       "1469 -0.445978 -0.574124 -0.628241 -0.932014 -0.678774 -0.491174 -0.339394   \n",
       "\n",
       "            14        15  \n",
       "0    -0.679146  0.245834  \n",
       "1    -0.368715  0.806541  \n",
       "2    -0.679146 -1.155935  \n",
       "3     0.252146 -1.155935  \n",
       "4    -0.058285 -0.595227  \n",
       "...        ...       ...  \n",
       "1465 -0.679146 -0.314873  \n",
       "1466 -0.368715  0.806541  \n",
       "1467 -0.679146 -0.314873  \n",
       "1468 -0.679146  1.086895  \n",
       "1469 -0.368715 -0.595227  \n",
       "\n",
       "[1470 rows x 16 columns]"
      ]
     },
     "execution_count": 36,
     "metadata": {},
     "output_type": "execute_result"
    }
   ],
   "source": [
    "numerical_pipeline=Pipeline([ (\"Feature_selection\",SelectKBest(score_func=chi2, k=16)),\n",
    "                            (\"Scaler\",StandardScaler())\n",
    "                            ])\n",
    "numerical_pipeline.fit(x,y)\n",
    "df2=pd.DataFrame(numerical_pipeline.transform(x))\n",
    "df2"
   ]
  },
  {
   "cell_type": "markdown",
   "metadata": {
    "slideshow": {
     "slide_type": "slide"
    }
   },
   "source": [
    "# Short Promising models\n"
   ]
  },
  {
   "cell_type": "code",
   "execution_count": 37,
   "metadata": {
    "slideshow": {
     "slide_type": "subslide"
    }
   },
   "outputs": [],
   "source": [
    "x=df2\n",
    "y=df[\"Attrition\"]"
   ]
  },
  {
   "cell_type": "code",
   "execution_count": 38,
   "metadata": {
    "slideshow": {
     "slide_type": "subslide"
    }
   },
   "outputs": [],
   "source": [
    "x_train,x_test,y_train,y_test=train_test_split(x,y,test_size=0.3,random_state=0)"
   ]
  },
  {
   "cell_type": "markdown",
   "metadata": {
    "slideshow": {
     "slide_type": "fragment"
    }
   },
   "source": [
    "From above analysis we come to single conclusion that the give problem\n",
    "Statment is of categorical type that is of classification type. So we will use\n",
    "classification models to solve above problem statment\n"
   ]
  },
  {
   "cell_type": "code",
   "execution_count": 39,
   "metadata": {
    "slideshow": {
     "slide_type": "subslide"
    }
   },
   "outputs": [],
   "source": [
    "log_clf = LogisticRegression(C=89,random_state=0)\n",
    "rnd_clf = RandomForestClassifier(n_estimators=100, random_state=0,max_features=6)\n",
    "svm_clf = SVC(gamma=\"auto\", random_state=0)\n",
    "knn_clf=KNeighborsClassifier(metric=\"euclidean\",n_neighbors=7)\n",
    "voting_clf = VotingClassifier(\n",
    "    estimators=[('lr', log_clf), ('rf', rnd_clf), ('knn', knn_clf),(\"svm\",svm_clf)],\n",
    "    voting='hard')"
   ]
  },
  {
   "cell_type": "code",
   "execution_count": 40,
   "metadata": {
    "slideshow": {
     "slide_type": "fragment"
    }
   },
   "outputs": [
    {
     "data": {
      "text/plain": [
       "VotingClassifier(estimators=[('lr',\n",
       "                              LogisticRegression(C=89, class_weight=None,\n",
       "                                                 dual=False, fit_intercept=True,\n",
       "                                                 intercept_scaling=1,\n",
       "                                                 l1_ratio=None, max_iter=100,\n",
       "                                                 multi_class='auto',\n",
       "                                                 n_jobs=None, penalty='l2',\n",
       "                                                 random_state=0, solver='lbfgs',\n",
       "                                                 tol=0.0001, verbose=0,\n",
       "                                                 warm_start=False)),\n",
       "                             ('rf',\n",
       "                              RandomForestClassifier(bootstrap=True,\n",
       "                                                     ccp_alpha=0.0,\n",
       "                                                     class_weight=None,\n",
       "                                                     criter...\n",
       "                                                   metric_params=None,\n",
       "                                                   n_jobs=None, n_neighbors=7,\n",
       "                                                   p=2, weights='uniform')),\n",
       "                             ('svm',\n",
       "                              SVC(C=1.0, break_ties=False, cache_size=200,\n",
       "                                  class_weight=None, coef0=0.0,\n",
       "                                  decision_function_shape='ovr', degree=3,\n",
       "                                  gamma='auto', kernel='rbf', max_iter=-1,\n",
       "                                  probability=False, random_state=0,\n",
       "                                  shrinking=True, tol=0.001, verbose=False))],\n",
       "                 flatten_transform=True, n_jobs=None, voting='hard',\n",
       "                 weights=None)"
      ]
     },
     "execution_count": 40,
     "metadata": {},
     "output_type": "execute_result"
    }
   ],
   "source": [
    "voting_clf.fit(x_train, y_train)"
   ]
  },
  {
   "cell_type": "markdown",
   "metadata": {
    "slideshow": {
     "slide_type": "fragment"
    }
   },
   "source": [
    "From above exprimentation we come to know that random forest would perform best with specific\n",
    "conditions.So now I will go with Random forest classifier "
   ]
  },
  {
   "cell_type": "markdown",
   "metadata": {
    "slideshow": {
     "slide_type": "slide"
    }
   },
   "source": [
    "# Fine Tuning System"
   ]
  },
  {
   "cell_type": "code",
   "execution_count": 41,
   "metadata": {
    "slideshow": {
     "slide_type": "subslide"
    }
   },
   "outputs": [
    {
     "data": {
      "text/plain": [
       "{'max_features': 6, 'n_estimators': 200}"
      ]
     },
     "execution_count": 41,
     "metadata": {},
     "output_type": "execute_result"
    }
   ],
   "source": [
    "param_grid=[{'n_estimators':[100,200,300],'max_features':[6,8,12,14]}]\n",
    "grid_search=GridSearchCV(rnd_clf,param_grid,cv=5)\n",
    "grid_search.fit(x,y)\n",
    "grid_search.best_params_"
   ]
  },
  {
   "cell_type": "markdown",
   "metadata": {
    "scrolled": false,
    "slideshow": {
     "slide_type": "fragment"
    }
   },
   "source": [
    "So before hyperparameter tunning accuracy of random forest was 86.63 but after applying\n",
    "hyperparameters acuracy inncreased by .20"
   ]
  },
  {
   "cell_type": "code",
   "execution_count": 46,
   "metadata": {
    "slideshow": {
     "slide_type": "subslide"
    }
   },
   "outputs": [
    {
     "name": "stdout",
     "output_type": "stream",
     "text": [
      "0.8684807256235828\n"
     ]
    }
   ],
   "source": [
    "rnd_clf.fit(x_train,y_train)\n",
    "y_pred=rnd_clf.predict(x_test)\n",
    "score=accuracy_score(y_test,y_pred)\n"
   ]
  },
  {
   "cell_type": "markdown",
   "metadata": {
    "slideshow": {
     "slide_type": "slide"
    }
   },
   "source": [
    "# Result analysis"
   ]
  },
  {
   "cell_type": "code",
   "execution_count": 118,
   "metadata": {
    "slideshow": {
     "slide_type": "subslide"
    }
   },
   "outputs": [
    {
     "name": "stdout",
     "output_type": "stream",
     "text": [
      "Saving figure confusion-matrix\n"
     ]
    },
    {
     "data": {
      "image/png": "[encoded data removed]",
      "text/plain": [
       "<Figure size 648x648 with 2 Axes>"
      ]
     },
     "metadata": {
      "needs_background": "light"
     },
     "output_type": "display_data"
    }
   ],
   "source": [
    "cm=confusion_matrix(y_test,y_pred)\n",
    "plt.figure(figsize=(9,9))\n",
    "sns.heatmap(cm, annot=True, fmt=\".3f\", linewidths=.5, square = True, cmap = 'Blues_r');\n",
    "plt.ylabel('Actual label');\n",
    "plt.xlabel('Predicted label');\n",
    "all_sample_title = 'Accuracy Score: {0}'.format(score*100)\n",
    "plt.title(all_sample_title, size = 15);\n",
    "save_fig(\"confusion-matrix\")"
   ]
  },
  {
   "cell_type": "code",
   "execution_count": 120,
   "metadata": {
    "slideshow": {
     "slide_type": "subslide"
    }
   },
   "outputs": [
    {
     "name": "stdout",
     "output_type": "stream",
     "text": [
      "              precision    recall  f1-score   support\n",
      "\n",
      "           0       0.88      0.98      0.93       371\n",
      "           1       0.73      0.27      0.40        70\n",
      "\n",
      "    accuracy                           0.87       441\n",
      "   macro avg       0.80      0.63      0.66       441\n",
      "weighted avg       0.85      0.87      0.84       441\n",
      "\n"
     ]
    }
   ],
   "source": [
    "print(classification_report(y_test,y_pred))"
   ]
  },
  {
   "cell_type": "code",
   "execution_count": 122,
   "metadata": {
    "slideshow": {
     "slide_type": "subslide"
    }
   },
   "outputs": [
    {
     "name": "stdout",
     "output_type": "stream",
     "text": [
      "AUC: 0.733\n"
     ]
    },
    {
     "data": {
      "image/png": "[encoded data removed]",
      "text/plain": [
       "<Figure size 432x288 with 1 Axes>"
      ]
     },
     "metadata": {
      "needs_background": "light"
     },
     "output_type": "display_data"
    },
    {
     "name": "stdout",
     "output_type": "stream",
     "text": [
      "Saving figure roc curve\n"
     ]
    },
    {
     "data": {
      "text/plain": [
       "<Figure size 432x288 with 0 Axes>"
      ]
     },
     "metadata": {},
     "output_type": "display_data"
    }
   ],
   "source": [
    "probs = rnd_clf.predict_proba(x_test)\n",
    "probs = probs[:, 1]\n",
    "auc = roc_auc_score(y_test, probs)\n",
    "print('AUC: %.3f' % auc)\n",
    "%matplotlib inline\n",
    "fpr, tpr, thresholds = roc_curve(y_test, probs)\n",
    "plt.plot([0, 1], [0, 1], linestyle='--')\n",
    "# plot the roc curve for the model\n",
    "plt.plot(fpr, tpr, marker='.')\n",
    "# show the plot\n",
    "plt.show()\n",
    "save_fig(\"roc curve\")"
   ]
  },
  {
   "cell_type": "code",
   "execution_count": 124,
   "metadata": {
    "slideshow": {
     "slide_type": "subslide"
    }
   },
   "outputs": [
    {
     "name": "stdout",
     "output_type": "stream",
     "text": [
      "f1=0.396 auc=0.733 ap=0.477\n"
     ]
    },
    {
     "data": {
      "image/png": "[encoded data removed]",
      "text/plain": [
       "<Figure size 432x288 with 1 Axes>"
      ]
     },
     "metadata": {
      "needs_background": "light"
     },
     "output_type": "display_data"
    },
    {
     "name": "stdout",
     "output_type": "stream",
     "text": [
      "Saving figure precision recall curve\n"
     ]
    },
    {
     "data": {
      "text/plain": [
       "<Figure size 432x288 with 0 Axes>"
      ]
     },
     "metadata": {},
     "output_type": "display_data"
    }
   ],
   "source": [
    "precision, recall, thresholds = precision_recall_curve(y_test, probs)\n",
    "# calculate F1 score\n",
    "f1 = f1_score(y_test, y_pred)\n",
    "# calculate precision-recall AUC\n",
    "#auc = auc(recall, precision)\n",
    "# calculate average precision score\n",
    "ap = average_precision_score(y_test, probs)\n",
    "print('f1=%.3f auc=%.3f ap=%.3f' % (f1, auc, ap))\n",
    "%matplotlib inline\n",
    "# plot no skill\n",
    "plt.plot([0, 1], [0.5, 0.5], linestyle='--')\n",
    "# plot the precision-recall curve for the model\n",
    "plt.plot(recall, precision, marker='.')\n",
    "# show the plot\n",
    "\n",
    "plt.show()\n",
    "save_fig(\"precision recall curve\")"
   ]
  },
  {
   "cell_type": "code",
   "execution_count": 126,
   "metadata": {
    "slideshow": {
     "slide_type": "skip"
    }
   },
   "outputs": [],
   "source": [
    "\n",
    "df1=pd.DataFrame(y_test)\n",
    "df1['predicted']=y_pred\n",
    "df1.to_csv(\"finalresult.csv\")\n"
   ]
  },
  {
   "cell_type": "code",
   "execution_count": 57,
   "metadata": {
    "slideshow": {
     "slide_type": "skip"
    }
   },
   "outputs": [
    {
     "data": {
      "text/plain": [
       "['preprocess_pipeline.sav']"
      ]
     },
     "execution_count": 57,
     "metadata": {},
     "output_type": "execute_result"
    }
   ],
   "source": [
    "\n",
    "filename = 'finalized_model.sav'\n",
    "joblib.dump(rnd_clf, filename)\n",
    "filename1=\"preprocess_pipeline.sav\"\n",
    "joblib.dump(numerical_pipeline,filename1)"
   ]
  },
  {
   "cell_type": "markdown",
   "metadata": {
    "slideshow": {
     "slide_type": "slide"
    }
   },
   "source": [
    "# Limitation\n",
    "\n",
    "Limitation includes Limitation includes implementation of Prediction System for Employee Attrition due to less training\n",
    "data set, implementation of Decision Making System for Retention due to complex development of the Classification Tree and Algorithm and inconsistent data, accuracy of Decision result, limited access to employee dataset due to GDPR"
   ]
  },
  {
   "cell_type": "code",
   "execution_count": 1,
   "metadata": {},
   "outputs": [
    {
     "ename": "NameError",
     "evalue": "name 'df' is not defined",
     "output_type": "error",
     "traceback": [
      "\u001b[1;31m---------------------------------------------------------------------------\u001b[0m",
      "\u001b[1;31mNameError\u001b[0m                                 Traceback (most recent call last)",
      "\u001b[1;32m<ipython-input-1-a4891dbc44bf>\u001b[0m in \u001b[0;36m<module>\u001b[1;34m\u001b[0m\n\u001b[1;32m----> 1\u001b[1;33m \u001b[1;32mfor\u001b[0m \u001b[0mi\u001b[0m \u001b[1;32min\u001b[0m \u001b[0mdf\u001b[0m\u001b[1;33m.\u001b[0m\u001b[0mcolumns\u001b[0m\u001b[1;33m:\u001b[0m\u001b[1;33m\u001b[0m\u001b[1;33m\u001b[0m\u001b[0m\n\u001b[0m\u001b[0;32m      2\u001b[0m     \u001b[0mprint\u001b[0m\u001b[1;33m(\u001b[0m\u001b[0mi\u001b[0m\u001b[1;33m)\u001b[0m\u001b[1;33m\u001b[0m\u001b[1;33m\u001b[0m\u001b[0m\n",
      "\u001b[1;31mNameError\u001b[0m: name 'df' is not defined"
     ]
    }
   ],
   "source": [
    "for i in df.columns:\n",
    "    print(i)"
   ]
  },
  {
   "cell_type": "code",
   "execution_count": null,
   "metadata": {},
   "outputs": [],
   "source": []
  }
 ],
 "metadata": {
  "celltoolbar": "Slideshow",
  "kernelspec": {
   "display_name": "Python 3",
   "language": "python",
   "name": "python3"
  },
  "language_info": {
   "codemirror_mode": {
    "name": "ipython",
    "version": 3
   },
   "file_extension": ".py",
   "mimetype": "text/x-python",
   "name": "python",
   "nbconvert_exporter": "python",
   "pygments_lexer": "ipython3",
   "version": "3.8.5"
  }
 },
 "nbformat": 4,
 "nbformat_minor": 4
}
